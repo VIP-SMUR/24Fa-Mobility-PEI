{
 "cells": [
  {
   "cell_type": "code",
   "execution_count": 2,
   "metadata": {},
   "outputs": [],
   "source": [
    "import geopandas as gpd\n",
    "from shapely.geometry import Polygon"
   ]
  },
  {
   "cell_type": "code",
   "execution_count": 6,
   "metadata": {},
   "outputs": [],
   "source": [
    "state_bg = gpd.read_file('tl_2023_13_bg.shp')\n",
    "cities_us = gpd.read_file('CityBoundaries.shp')"
   ]
  },
  {
   "cell_type": "markdown",
   "metadata": {},
   "source": [
    "State shapefiles may be found at https://www.census.gov/cgi-bin/geo/shapefiles/index.php?year=2023&layergroup=Block+Groups."
   ]
  },
  {
   "cell_type": "code",
   "execution_count": 11,
   "metadata": {},
   "outputs": [
    {
     "name": "stderr",
     "output_type": "stream",
     "text": [
      "C:\\Users\\joshu\\AppData\\Local\\Temp\\ipykernel_26116\\660658382.py:6: UserWarning: Column names longer than 10 characters will be truncated when saved to ESRI Shapefile.\n",
      "  atl_bg.to_file('atl_bg.shp')\n"
     ]
    }
   ],
   "source": [
    "atl = cities_us[cities_us['NAME'] == 'Atlanta']\n",
    "atl = atl.to_crs(state_bg.crs)\n",
    "\n",
    "atl_bg = gpd.sjoin(state_bg, atl, how='inner', predicate='intersects')\n",
    "\n",
    "atl_bg.to_file('atl_bg.geojson')\n"
   ]
  }
 ],
 "metadata": {
  "kernelspec": {
   "display_name": "Python 3",
   "language": "python",
   "name": "python3"
  },
  "language_info": {
   "codemirror_mode": {
    "name": "ipython",
    "version": 3
   },
   "file_extension": ".py",
   "mimetype": "text/x-python",
   "name": "python",
   "nbconvert_exporter": "python",
   "pygments_lexer": "ipython3",
   "version": "3.12.1"
  }
 },
 "nbformat": 4,
 "nbformat_minor": 2
}
