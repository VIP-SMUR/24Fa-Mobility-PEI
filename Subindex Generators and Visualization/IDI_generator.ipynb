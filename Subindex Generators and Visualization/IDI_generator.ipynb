{
 "cells": [
  {
   "cell_type": "code",
   "execution_count": 27,
   "metadata": {},
   "outputs": [],
   "source": [
    "import osmnx as ox\n",
    "import matplotlib.pyplot as plt\n",
    "import geopandas as gpd\n",
    "import csv\n"
   ]
  },
  {
   "cell_type": "code",
   "execution_count": 28,
   "metadata": {},
   "outputs": [],
   "source": [
    "\n",
    "# Data Extraction\n",
    "\n",
    "# Read GeoJSON file using GeoPandas\n",
    "data = gpd.read_file(\"/Users/ACER/Desktop/VIP_IDI/atl_bg.geojson\")\n",
    "\n",
    "# Extract polygons from the GeoJSON file\n",
    "polygons = [i for i in data[\"geometry\"]]  \n",
    "\n",
    "# Extract area information from the GeoJSON file\n",
    "areas = [i for i in data[\"ALAND\"]]  \n",
    "\n"
   ]
  },
  {
   "cell_type": "code",
   "execution_count": 29,
   "metadata": {},
   "outputs": [
    {
     "ename": "KeyboardInterrupt",
     "evalue": "",
     "output_type": "error",
     "traceback": [
      "\u001b[0;31m---------------------------------------------------------------------------\u001b[0m",
      "\u001b[0;31mKeyboardInterrupt\u001b[0m                         Traceback (most recent call last)",
      "Cell \u001b[0;32mIn[29], line 10\u001b[0m\n\u001b[1;32m      7\u001b[0m intersection_factor_sum \u001b[38;5;241m=\u001b[39m \u001b[38;5;241m0\u001b[39m\n\u001b[1;32m      9\u001b[0m \u001b[38;5;66;03m# Create a street network graph from the current polygon\u001b[39;00m\n\u001b[0;32m---> 10\u001b[0m graph \u001b[38;5;241m=\u001b[39m \u001b[43mox\u001b[49m\u001b[38;5;241;43m.\u001b[39;49m\u001b[43mgraph_from_polygon\u001b[49m\u001b[43m(\u001b[49m\u001b[43mpolygon\u001b[49m\u001b[43m,\u001b[49m\u001b[43m \u001b[49m\u001b[43mnetwork_type\u001b[49m\u001b[38;5;241;43m=\u001b[39;49m\u001b[38;5;124;43m'\u001b[39;49m\u001b[38;5;124;43mwalk\u001b[39;49m\u001b[38;5;124;43m'\u001b[39;49m\u001b[43m)\u001b[49m \n\u001b[1;32m     12\u001b[0m \u001b[38;5;66;03m# Calculate intersection factor sum for the polygon's graph\u001b[39;00m\n\u001b[1;32m     13\u001b[0m \u001b[38;5;28;01mfor\u001b[39;00m node \u001b[38;5;129;01min\u001b[39;00m graph\u001b[38;5;241m.\u001b[39mnodes():\n",
      "File \u001b[0;32m~/anaconda3/envs/ox/lib/python3.12/site-packages/osmnx/graph.py:484\u001b[0m, in \u001b[0;36mgraph_from_polygon\u001b[0;34m(polygon, network_type, simplify, retain_all, truncate_by_edge, clean_periphery, custom_filter)\u001b[0m\n\u001b[1;32m    481\u001b[0m \u001b[38;5;28;01mif\u001b[39;00m clean_periphery:\n\u001b[1;32m    482\u001b[0m     \u001b[38;5;66;03m# create a new buffered polygon 0.5km around the desired one\u001b[39;00m\n\u001b[1;32m    483\u001b[0m     buffer_dist \u001b[38;5;241m=\u001b[39m \u001b[38;5;241m500\u001b[39m\n\u001b[0;32m--> 484\u001b[0m     poly_proj, crs_utm \u001b[38;5;241m=\u001b[39m \u001b[43mprojection\u001b[49m\u001b[38;5;241;43m.\u001b[39;49m\u001b[43mproject_geometry\u001b[49m\u001b[43m(\u001b[49m\u001b[43mpolygon\u001b[49m\u001b[43m)\u001b[49m\n\u001b[1;32m    485\u001b[0m     poly_proj_buff \u001b[38;5;241m=\u001b[39m poly_proj\u001b[38;5;241m.\u001b[39mbuffer(buffer_dist)\n\u001b[1;32m    486\u001b[0m     poly_buff, _ \u001b[38;5;241m=\u001b[39m projection\u001b[38;5;241m.\u001b[39mproject_geometry(poly_proj_buff, crs\u001b[38;5;241m=\u001b[39mcrs_utm, to_latlong\u001b[38;5;241m=\u001b[39m\u001b[38;5;28;01mTrue\u001b[39;00m)\n",
      "File \u001b[0;32m~/anaconda3/envs/ox/lib/python3.12/site-packages/osmnx/projection.py:60\u001b[0m, in \u001b[0;36mproject_geometry\u001b[0;34m(geometry, crs, to_crs, to_latlong)\u001b[0m\n\u001b[1;32m     57\u001b[0m     crs \u001b[38;5;241m=\u001b[39m settings\u001b[38;5;241m.\u001b[39mdefault_crs\n\u001b[1;32m     59\u001b[0m gdf \u001b[38;5;241m=\u001b[39m gpd\u001b[38;5;241m.\u001b[39mGeoDataFrame(geometry\u001b[38;5;241m=\u001b[39m[geometry], crs\u001b[38;5;241m=\u001b[39mcrs)\n\u001b[0;32m---> 60\u001b[0m gdf_proj \u001b[38;5;241m=\u001b[39m \u001b[43mproject_gdf\u001b[49m\u001b[43m(\u001b[49m\u001b[43mgdf\u001b[49m\u001b[43m,\u001b[49m\u001b[43m \u001b[49m\u001b[43mto_crs\u001b[49m\u001b[38;5;241;43m=\u001b[39;49m\u001b[43mto_crs\u001b[49m\u001b[43m,\u001b[49m\u001b[43m \u001b[49m\u001b[43mto_latlong\u001b[49m\u001b[38;5;241;43m=\u001b[39;49m\u001b[43mto_latlong\u001b[49m\u001b[43m)\u001b[49m\n\u001b[1;32m     61\u001b[0m geometry_proj \u001b[38;5;241m=\u001b[39m gdf_proj[\u001b[38;5;124m\"\u001b[39m\u001b[38;5;124mgeometry\u001b[39m\u001b[38;5;124m\"\u001b[39m]\u001b[38;5;241m.\u001b[39miloc[\u001b[38;5;241m0\u001b[39m]\n\u001b[1;32m     62\u001b[0m \u001b[38;5;28;01mreturn\u001b[39;00m geometry_proj, gdf_proj\u001b[38;5;241m.\u001b[39mcrs\n",
      "File \u001b[0;32m~/anaconda3/envs/ox/lib/python3.12/site-packages/osmnx/projection.py:99\u001b[0m, in \u001b[0;36mproject_gdf\u001b[0;34m(gdf, to_crs, to_latlong)\u001b[0m\n\u001b[1;32m     97\u001b[0m \u001b[38;5;66;03m# else if to_crs is None, project gdf to an appropriate UTM zone\u001b[39;00m\n\u001b[1;32m     98\u001b[0m \u001b[38;5;28;01melif\u001b[39;00m to_crs \u001b[38;5;129;01mis\u001b[39;00m \u001b[38;5;28;01mNone\u001b[39;00m:\n\u001b[0;32m---> 99\u001b[0m     to_crs \u001b[38;5;241m=\u001b[39m \u001b[43mgdf\u001b[49m\u001b[38;5;241;43m.\u001b[39;49m\u001b[43mestimate_utm_crs\u001b[49m\u001b[43m(\u001b[49m\u001b[43m)\u001b[49m\n\u001b[1;32m    101\u001b[0m \u001b[38;5;66;03m# project the gdf\u001b[39;00m\n\u001b[1;32m    102\u001b[0m gdf_proj \u001b[38;5;241m=\u001b[39m gdf\u001b[38;5;241m.\u001b[39mto_crs(to_crs)\n",
      "File \u001b[0;32m~/anaconda3/envs/ox/lib/python3.12/site-packages/geopandas/geodataframe.py:1448\u001b[0m, in \u001b[0;36mGeoDataFrame.estimate_utm_crs\u001b[0;34m(self, datum_name)\u001b[0m\n\u001b[1;32m   1412\u001b[0m \u001b[38;5;28;01mdef\u001b[39;00m \u001b[38;5;21mestimate_utm_crs\u001b[39m(\u001b[38;5;28mself\u001b[39m, datum_name\u001b[38;5;241m=\u001b[39m\u001b[38;5;124m\"\u001b[39m\u001b[38;5;124mWGS 84\u001b[39m\u001b[38;5;124m\"\u001b[39m):\n\u001b[1;32m   1413\u001b[0m \u001b[38;5;250m    \u001b[39m\u001b[38;5;124;03m\"\"\"Returns the estimated UTM CRS based on the bounds of the dataset.\u001b[39;00m\n\u001b[1;32m   1414\u001b[0m \n\u001b[1;32m   1415\u001b[0m \u001b[38;5;124;03m    .. versionadded:: 0.9\u001b[39;00m\n\u001b[0;32m   (...)\u001b[0m\n\u001b[1;32m   1446\u001b[0m \u001b[38;5;124;03m    - Prime Meridian: Greenwich\u001b[39;00m\n\u001b[1;32m   1447\u001b[0m \u001b[38;5;124;03m    \"\"\"\u001b[39;00m\n\u001b[0;32m-> 1448\u001b[0m     \u001b[38;5;28;01mreturn\u001b[39;00m \u001b[38;5;28;43mself\u001b[39;49m\u001b[38;5;241;43m.\u001b[39;49m\u001b[43mgeometry\u001b[49m\u001b[38;5;241;43m.\u001b[39;49m\u001b[43mestimate_utm_crs\u001b[49m\u001b[43m(\u001b[49m\u001b[43mdatum_name\u001b[49m\u001b[38;5;241;43m=\u001b[39;49m\u001b[43mdatum_name\u001b[49m\u001b[43m)\u001b[49m\n",
      "File \u001b[0;32m~/anaconda3/envs/ox/lib/python3.12/site-packages/geopandas/geoseries.py:1209\u001b[0m, in \u001b[0;36mGeoSeries.estimate_utm_crs\u001b[0;34m(self, datum_name)\u001b[0m\n\u001b[1;32m   1173\u001b[0m \u001b[38;5;28;01mdef\u001b[39;00m \u001b[38;5;21mestimate_utm_crs\u001b[39m(\u001b[38;5;28mself\u001b[39m, datum_name: \u001b[38;5;28mstr\u001b[39m \u001b[38;5;241m=\u001b[39m \u001b[38;5;124m\"\u001b[39m\u001b[38;5;124mWGS 84\u001b[39m\u001b[38;5;124m\"\u001b[39m) \u001b[38;5;241m-\u001b[39m\u001b[38;5;241m>\u001b[39m CRS:\n\u001b[1;32m   1174\u001b[0m \u001b[38;5;250m    \u001b[39m\u001b[38;5;124;03m\"\"\"Returns the estimated UTM CRS based on the bounds of the dataset.\u001b[39;00m\n\u001b[1;32m   1175\u001b[0m \n\u001b[1;32m   1176\u001b[0m \u001b[38;5;124;03m    .. versionadded:: 0.9\u001b[39;00m\n\u001b[0;32m   (...)\u001b[0m\n\u001b[1;32m   1207\u001b[0m \u001b[38;5;124;03m    - Prime Meridian: Greenwich\u001b[39;00m\n\u001b[1;32m   1208\u001b[0m \u001b[38;5;124;03m    \"\"\"\u001b[39;00m\n\u001b[0;32m-> 1209\u001b[0m     \u001b[38;5;28;01mreturn\u001b[39;00m \u001b[38;5;28;43mself\u001b[39;49m\u001b[38;5;241;43m.\u001b[39;49m\u001b[43mvalues\u001b[49m\u001b[38;5;241;43m.\u001b[39;49m\u001b[43mestimate_utm_crs\u001b[49m\u001b[43m(\u001b[49m\u001b[43mdatum_name\u001b[49m\u001b[43m)\u001b[49m\n",
      "File \u001b[0;32m~/anaconda3/envs/ox/lib/python3.12/site-packages/geopandas/array.py:940\u001b[0m, in \u001b[0;36mGeometryArray.estimate_utm_crs\u001b[0;34m(self, datum_name)\u001b[0m\n\u001b[1;32m    937\u001b[0m     \u001b[38;5;28;01melse\u001b[39;00m:\n\u001b[1;32m    938\u001b[0m         x_center \u001b[38;5;241m=\u001b[39m np\u001b[38;5;241m.\u001b[39mmean([minx, maxx])\n\u001b[0;32m--> 940\u001b[0m utm_crs_list \u001b[38;5;241m=\u001b[39m \u001b[43mquery_utm_crs_info\u001b[49m\u001b[43m(\u001b[49m\n\u001b[1;32m    941\u001b[0m \u001b[43m    \u001b[49m\u001b[43mdatum_name\u001b[49m\u001b[38;5;241;43m=\u001b[39;49m\u001b[43mdatum_name\u001b[49m\u001b[43m,\u001b[49m\n\u001b[1;32m    942\u001b[0m \u001b[43m    \u001b[49m\u001b[43marea_of_interest\u001b[49m\u001b[38;5;241;43m=\u001b[39;49m\u001b[43mAreaOfInterest\u001b[49m\u001b[43m(\u001b[49m\n\u001b[1;32m    943\u001b[0m \u001b[43m        \u001b[49m\u001b[43mwest_lon_degree\u001b[49m\u001b[38;5;241;43m=\u001b[39;49m\u001b[43mx_center\u001b[49m\u001b[43m,\u001b[49m\n\u001b[1;32m    944\u001b[0m \u001b[43m        \u001b[49m\u001b[43msouth_lat_degree\u001b[49m\u001b[38;5;241;43m=\u001b[39;49m\u001b[43my_center\u001b[49m\u001b[43m,\u001b[49m\n\u001b[1;32m    945\u001b[0m \u001b[43m        \u001b[49m\u001b[43meast_lon_degree\u001b[49m\u001b[38;5;241;43m=\u001b[39;49m\u001b[43mx_center\u001b[49m\u001b[43m,\u001b[49m\n\u001b[1;32m    946\u001b[0m \u001b[43m        \u001b[49m\u001b[43mnorth_lat_degree\u001b[49m\u001b[38;5;241;43m=\u001b[39;49m\u001b[43my_center\u001b[49m\u001b[43m,\u001b[49m\n\u001b[1;32m    947\u001b[0m \u001b[43m    \u001b[49m\u001b[43m)\u001b[49m\u001b[43m,\u001b[49m\n\u001b[1;32m    948\u001b[0m \u001b[43m\u001b[49m\u001b[43m)\u001b[49m\n\u001b[1;32m    949\u001b[0m \u001b[38;5;28;01mtry\u001b[39;00m:\n\u001b[1;32m    950\u001b[0m     \u001b[38;5;28;01mreturn\u001b[39;00m CRS\u001b[38;5;241m.\u001b[39mfrom_epsg(utm_crs_list[\u001b[38;5;241m0\u001b[39m]\u001b[38;5;241m.\u001b[39mcode)\n",
      "File \u001b[0;32m~/anaconda3/envs/ox/lib/python3.12/site-packages/pyproj/database.pyx:314\u001b[0m, in \u001b[0;36mpyproj.database.query_utm_crs_info\u001b[0;34m()\u001b[0m\n",
      "File \u001b[0;32m~/anaconda3/envs/ox/lib/python3.12/site-packages/pyproj/database.pyx:261\u001b[0m, in \u001b[0;36mpyproj.database.query_crs_info\u001b[0;34m()\u001b[0m\n",
      "File \u001b[0;32m<string>:1\u001b[0m, in \u001b[0;36m<lambda>\u001b[0;34m(_cls, west, south, east, north, name)\u001b[0m\n",
      "\u001b[0;31mKeyboardInterrupt\u001b[0m: "
     ]
    }
   ],
   "source": [
    "# Initialize empty lists for calculation results\n",
    "numerator = []\n",
    "intersection_sums = []\n",
    "\n",
    "# Iterate through polygons and their corresponding areas\n",
    "for polygon, area in zip(polygons, areas):\n",
    "    intersection_factor_sum = 0\n",
    "\n",
    "    # Create a street network graph from the current polygon\n",
    "    graph = ox.graph_from_polygon(polygon, network_type='walk') \n",
    "\n",
    "    # Calculate intersection factor sum for the polygon's graph\n",
    "    for node in graph.nodes():\n",
    "        intersection_factor_sum += len(list(graph.neighbors(node)))  # Count neighbors of each node\n",
    "\n",
    "    # Store results    \n",
    "    intersection_sums.append(intersection_factor_sum) \n",
    "    numerator.append(intersection_factor_sum/area)  # Calculate metric, normalized by area\n",
    "\n",
    "# Find the maximum value in 'numerator'\n",
    "maxi = max(numerator)\n",
    "\n",
    "# Calculate the IDI \n",
    "IDI = [value / maxi for value in numerator]  # Normalize values by the maximum"
   ]
  },
  {
   "cell_type": "code",
   "execution_count": null,
   "metadata": {},
   "outputs": [],
   "source": [
    "# Create and write to the CSV file\n",
    "with open('Atlanta_IDI_data.csv', 'w', newline='') as csvfile:\n",
    "    writer = csv.writer(csvfile)\n",
    "    writer.writerow(['Polygon', 'Area', 'Intersection_sums','Numerator','IDI'])  # Header row\n",
    "\n",
    "    # Use zip to combine lists into rows\n",
    "    for polygon, area,sum,num,val in zip(polygons, areas, intersection_sums,numerator,IDI):\n",
    "        writer.writerow([polygon, area,sum,num,val])"
   ]
  }
 ],
 "metadata": {
  "kernelspec": {
   "display_name": "ox",
   "language": "python",
   "name": "python3"
  },
  "language_info": {
   "codemirror_mode": {
    "name": "ipython",
    "version": 3
   },
   "file_extension": ".py",
   "mimetype": "text/x-python",
   "name": "python",
   "nbconvert_exporter": "python",
   "pygments_lexer": "ipython3",
   "version": "3.12.2"
  }
 },
 "nbformat": 4,
 "nbformat_minor": 2
}
